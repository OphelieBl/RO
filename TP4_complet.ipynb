{
  "nbformat": 4,
  "nbformat_minor": 0,
  "metadata": {
    "kernelspec": {
      "display_name": "Python 3",
      "language": "python",
      "name": "python3"
    },
    "language_info": {
      "codemirror_mode": {
        "name": "ipython",
        "version": 3
      },
      "file_extension": ".py",
      "mimetype": "text/x-python",
      "name": "python",
      "nbconvert_exporter": "python",
      "pygments_lexer": "ipython3",
      "version": "3.7.3"
    },
    "colab": {
      "name": "TP4.ipynb",
      "provenance": [],
      "collapsed_sections": []
    }
  },
  "cells": [
    {
      "cell_type": "code",
      "metadata": {
        "id": "G5XZ1YhwXjuF",
        "colab": {
          "base_uri": "https://localhost:8080/"
        },
        "outputId": "f593a388-a394-482f-9c1f-a86594d2c562"
      },
      "source": [
        "!apt install libgraphviz-dev\n",
        "!pip install pygraphviz\n",
        "import pygraphviz as pgv\n",
        "import networkx as nx\n",
        "import matplotlib.pyplot as plt"
      ],
      "execution_count": 3,
      "outputs": [
        {
          "output_type": "stream",
          "text": [
            "Reading package lists... Done\n",
            "Building dependency tree       \n",
            "Reading state information... Done\n",
            "The following additional packages will be installed:\n",
            "  libgail-common libgail18 libgtk2.0-0 libgtk2.0-bin libgtk2.0-common\n",
            "  libgvc6-plugins-gtk libxdot4\n",
            "Suggested packages:\n",
            "  gvfs\n",
            "The following NEW packages will be installed:\n",
            "  libgail-common libgail18 libgraphviz-dev libgtk2.0-0 libgtk2.0-bin\n",
            "  libgtk2.0-common libgvc6-plugins-gtk libxdot4\n",
            "0 upgraded, 8 newly installed, 0 to remove and 30 not upgraded.\n",
            "Need to get 2,120 kB of archives.\n",
            "After this operation, 7,128 kB of additional disk space will be used.\n",
            "Get:1 http://archive.ubuntu.com/ubuntu bionic/main amd64 libgtk2.0-common all 2.24.32-1ubuntu1 [125 kB]\n",
            "Get:2 http://archive.ubuntu.com/ubuntu bionic/main amd64 libgtk2.0-0 amd64 2.24.32-1ubuntu1 [1,769 kB]\n",
            "Get:3 http://archive.ubuntu.com/ubuntu bionic/main amd64 libgail18 amd64 2.24.32-1ubuntu1 [14.2 kB]\n",
            "Get:4 http://archive.ubuntu.com/ubuntu bionic/main amd64 libgail-common amd64 2.24.32-1ubuntu1 [112 kB]\n",
            "Get:5 http://archive.ubuntu.com/ubuntu bionic/universe amd64 libxdot4 amd64 2.40.1-2 [15.7 kB]\n",
            "Get:6 http://archive.ubuntu.com/ubuntu bionic/universe amd64 libgvc6-plugins-gtk amd64 2.40.1-2 [18.2 kB]\n",
            "Get:7 http://archive.ubuntu.com/ubuntu bionic/universe amd64 libgraphviz-dev amd64 2.40.1-2 [57.3 kB]\n",
            "Get:8 http://archive.ubuntu.com/ubuntu bionic/main amd64 libgtk2.0-bin amd64 2.24.32-1ubuntu1 [7,536 B]\n",
            "Fetched 2,120 kB in 2s (1,333 kB/s)\n",
            "Selecting previously unselected package libgtk2.0-common.\n",
            "(Reading database ... 160980 files and directories currently installed.)\n",
            "Preparing to unpack .../0-libgtk2.0-common_2.24.32-1ubuntu1_all.deb ...\n",
            "Unpacking libgtk2.0-common (2.24.32-1ubuntu1) ...\n",
            "Selecting previously unselected package libgtk2.0-0:amd64.\n",
            "Preparing to unpack .../1-libgtk2.0-0_2.24.32-1ubuntu1_amd64.deb ...\n",
            "Unpacking libgtk2.0-0:amd64 (2.24.32-1ubuntu1) ...\n",
            "Selecting previously unselected package libgail18:amd64.\n",
            "Preparing to unpack .../2-libgail18_2.24.32-1ubuntu1_amd64.deb ...\n",
            "Unpacking libgail18:amd64 (2.24.32-1ubuntu1) ...\n",
            "Selecting previously unselected package libgail-common:amd64.\n",
            "Preparing to unpack .../3-libgail-common_2.24.32-1ubuntu1_amd64.deb ...\n",
            "Unpacking libgail-common:amd64 (2.24.32-1ubuntu1) ...\n",
            "Selecting previously unselected package libxdot4.\n",
            "Preparing to unpack .../4-libxdot4_2.40.1-2_amd64.deb ...\n",
            "Unpacking libxdot4 (2.40.1-2) ...\n",
            "Selecting previously unselected package libgvc6-plugins-gtk.\n",
            "Preparing to unpack .../5-libgvc6-plugins-gtk_2.40.1-2_amd64.deb ...\n",
            "Unpacking libgvc6-plugins-gtk (2.40.1-2) ...\n",
            "Selecting previously unselected package libgraphviz-dev.\n",
            "Preparing to unpack .../6-libgraphviz-dev_2.40.1-2_amd64.deb ...\n",
            "Unpacking libgraphviz-dev (2.40.1-2) ...\n",
            "Selecting previously unselected package libgtk2.0-bin.\n",
            "Preparing to unpack .../7-libgtk2.0-bin_2.24.32-1ubuntu1_amd64.deb ...\n",
            "Unpacking libgtk2.0-bin (2.24.32-1ubuntu1) ...\n",
            "Setting up libgtk2.0-common (2.24.32-1ubuntu1) ...\n",
            "Setting up libxdot4 (2.40.1-2) ...\n",
            "Setting up libgtk2.0-0:amd64 (2.24.32-1ubuntu1) ...\n",
            "Setting up libgail18:amd64 (2.24.32-1ubuntu1) ...\n",
            "Setting up libgail-common:amd64 (2.24.32-1ubuntu1) ...\n",
            "Setting up libgvc6-plugins-gtk (2.40.1-2) ...\n",
            "Setting up libgraphviz-dev (2.40.1-2) ...\n",
            "Setting up libgtk2.0-bin (2.24.32-1ubuntu1) ...\n",
            "Processing triggers for man-db (2.8.3-2ubuntu0.1) ...\n",
            "Processing triggers for libc-bin (2.27-3ubuntu1.2) ...\n",
            "/sbin/ldconfig.real: /usr/local/lib/python3.7/dist-packages/ideep4py/lib/libmkldnn.so.0 is not a symbolic link\n",
            "\n",
            "Collecting pygraphviz\n",
            "\u001b[?25l  Downloading https://files.pythonhosted.org/packages/3a/d6/2c56f09ee83dbebb62c40487e4c972135661b9984fec9b30b77fb497090c/pygraphviz-1.7.zip (118kB)\n",
            "\u001b[K     |████████████████████████████████| 122kB 7.8MB/s \n",
            "\u001b[?25hBuilding wheels for collected packages: pygraphviz\n",
            "  Building wheel for pygraphviz (setup.py) ... \u001b[?25l\u001b[?25hdone\n",
            "  Created wheel for pygraphviz: filename=pygraphviz-1.7-cp37-cp37m-linux_x86_64.whl size=166118 sha256=e299e586b112870861b92b0a3654ed44acf89ea6511a29df8bad903c268a268b\n",
            "  Stored in directory: /root/.cache/pip/wheels/32/59/00/14934a4292c4359eeabcdbf90f33d309b55d0f1be8a1262523\n",
            "Successfully built pygraphviz\n",
            "Installing collected packages: pygraphviz\n",
            "Successfully installed pygraphviz-1.7\n"
          ],
          "name": "stdout"
        }
      ]
    },
    {
      "cell_type": "code",
      "metadata": {
        "id": "DGrysjWXXjuR"
      },
      "source": [
        "G = pgv.AGraph()"
      ],
      "execution_count": 4,
      "outputs": []
    },
    {
      "cell_type": "code",
      "metadata": {
        "id": "upxH9eIOXjuR"
      },
      "source": [
        "node_list = [i for i in range(400)]"
      ],
      "execution_count": 5,
      "outputs": []
    },
    {
      "cell_type": "code",
      "metadata": {
        "id": "67tf1zaDXjuR"
      },
      "source": [
        "G.add_nodes_from(node_list)"
      ],
      "execution_count": 6,
      "outputs": []
    },
    {
      "cell_type": "code",
      "metadata": {
        "id": "LbpOZm9nXjuS"
      },
      "source": [
        "#G.node_attr[\"shape\"] = \"circle\"\n",
        "#G.edge_attr[\"color\"] = \"red\""
      ],
      "execution_count": 7,
      "outputs": []
    },
    {
      "cell_type": "code",
      "metadata": {
        "id": "EnKAgtFAXjuS"
      },
      "source": [
        "\n",
        "\n",
        "#ajoute les noeuds\n",
        "import random\n",
        "p = 0.8\n",
        "q = 0.01\n",
        "\n",
        "    \n",
        "def tirage(p,q):\n",
        "    G = pgv.AGraph()\n",
        "    G = nx.Graph()\n",
        "    node_list = [i for i in range(1000)]\n",
        "    G.add_nodes_from(node_list)\n",
        "    dicoNeigh = {}\n",
        "    for j in range(1000):\n",
        "        for k in range(j+1,1000):\n",
        "            if k-j<100:\n",
        "                #tirage dans le même groupe\n",
        "                tirage = random.random()\n",
        "                if tirage <= p:\n",
        "                    G.add_edge(j, k, color =\"blue\")\n",
        "                    if j in dicoNeigh:\n",
        "                        dicoNeigh[j].add(k)\n",
        "                    else :\n",
        "                        dicoNeigh[j] = {k}\n",
        "                    if k in dicoNeigh :\n",
        "                        dicoNeigh[k].add(j)\n",
        "                    else : \n",
        "                        dicoNeigh[k] = {j}\n",
        "            else : \n",
        "                #tirage pour groupes différents\n",
        "                tirage = random.random()\n",
        "                if tirage <= q:\n",
        "                    G.add_edge(j, k, color =\"red\")\n",
        "                    if j in dicoNeigh:\n",
        "                        dicoNeigh[j].add(k)\n",
        "                    else :\n",
        "                        dicoNeigh[j] = {k}\n",
        "                    if k in dicoNeigh :\n",
        "                        dicoNeigh[k].add(j)\n",
        "                    else : \n",
        "                        dicoNeigh[k] = {j}\n",
        "    return dicoNeigh, G\n",
        "   \n",
        "dicoNeigh, G = tirage(p,q)\n"
      ],
      "execution_count": 8,
      "outputs": []
    },
    {
      "cell_type": "code",
      "metadata": {
        "id": "aHnWSjSZXjuS"
      },
      "source": [
        "#compute dicoNeigh for other graphs\n",
        "import re\n",
        "def getDicoNeigh(fileName):\n",
        "    f = open(fileName, \"r\")\n",
        "    dicoNeigh = {}\n",
        "    for x in f:\n",
        "        sep = re.split('\\s+', x)\n",
        "        if sep[0].isdigit():\n",
        "            a = int(sep[0])\n",
        "            b = int(sep[1])\n",
        "            if a in dicoNeigh :\n",
        "                dicoNeigh[a].add(b)\n",
        "            else :\n",
        "                dicoNeigh[a]={b}\n",
        "            if b in dicoNeigh:\n",
        "                dicoNeigh[b].add(a)\n",
        "            else:\n",
        "                dicoNeigh[b]={a}\n",
        "    return dicoNeigh\n"
      ],
      "execution_count": 9,
      "outputs": []
    },
    {
      "cell_type": "code",
      "metadata": {
        "id": "m1jKn4gNXjuT"
      },
      "source": [
        "#Fisher Yates shuffle\n",
        "def FisherYatesShuffle (listeToShuffle, nbNodes): \n",
        "    for i in range(nbNodes-1,0,-1): \n",
        "        j = random.randint(0,i) \n",
        "        listeToShuffle[j], listeToShuffle[i] = listeToShuffle[i], listeToShuffle[j] \n",
        "    return listeToShuffle"
      ],
      "execution_count": 10,
      "outputs": []
    },
    {
      "cell_type": "code",
      "metadata": {
        "colab": {
          "base_uri": "https://localhost:8080/",
          "height": 351
        },
        "id": "FZcN8UgzXjuT",
        "outputId": "99d12e27-299e-4e1b-a0d5-138aaedd60f7"
      },
      "source": [
        "#dicoNeigh = {1:{2,3,4}, 2:{1,3}, 3:{1,2}, 4:{1,5,6}, 5:{4,6}, 6:{4,5}}\n",
        "from collections import defaultdict\n",
        "\n",
        "def labelPropagation(dicoNeigh):\n",
        "    nbNodes = max(dicoNeigh.keys())+1 #ajout artificiel drun zéro au cas où le noeud 0 est présent\n",
        "    label = []\n",
        "    #attribution d'un label unique pour chaque noeud si le noeud est relié au graphe\n",
        "    for i in range(0, nbNodes):\n",
        "        if i in dicoNeigh:\n",
        "            label.append(i)\n",
        "        else:\n",
        "            #noeud non relié au graphe\n",
        "            label.append(-1)\n",
        "    continueIteration = True\n",
        "    nbIter = 0\n",
        "    while continueIteration:\n",
        "        nbChange = 0\n",
        "        listToShuffle = [i for i in range(nbNodes)]\n",
        "        listShuffle = FisherYatesShuffle(listToShuffle, nbNodes)\n",
        "        for node in listShuffle:\n",
        "            if node in dicoNeigh:\n",
        "                neighbours = dicoNeigh[node]\n",
        "                dicoLabel = {}\n",
        "                for neigh in neighbours:\n",
        "                    if label[neigh] in dicoLabel:\n",
        "                        dicoLabel[label[neigh]]+=1\n",
        "                    else : \n",
        "                        dicoLabel[label[neigh]]=1\n",
        "                dicoLabel_inverted = defaultdict(list)\n",
        "                {dicoLabel_inverted[v].append(k) for k, v in dicoLabel.items()}\n",
        "                dicoInverted = dict(dicoLabel_inverted)\n",
        "                maxKey = max(dicoInverted.keys())\n",
        "                #maxNumber = max(dicoLabel.values())\n",
        "                #setLabelMax = set()\n",
        "                #for key in dicoLabel.keys():\n",
        "                #    if dicoLabel[key]==maxNumber:\n",
        "                #        setLabelMax.add(key)\n",
        "                #regarde si label déjà présent\n",
        "                if label[node] not in dicoInverted[maxKey]:\n",
        "                    #label[node] = setLabelMax.pop()\n",
        "                    label[node] = random.choice(dicoInverted[maxKey])\n",
        "                    nbChange +=1\n",
        "\n",
        "        if nbChange == 0:\n",
        "            continueIteration = False\n",
        "        nbIter +=1\n",
        "        \n",
        "    return label  \n",
        "\n",
        "dicoNeigh = getDicoNeigh('com-amazon.ungraph.txt')\n",
        "import time\n",
        "tps1 = time.clock()\n",
        "\n",
        "label = labelPropagation(dicoNeigh)\n",
        "tps2 = time.clock()\n",
        "print(tps2 - tps1)\n"
      ],
      "execution_count": 11,
      "outputs": [
        {
          "output_type": "error",
          "ename": "FileNotFoundError",
          "evalue": "ignored",
          "traceback": [
            "\u001b[0;31m---------------------------------------------------------------------------\u001b[0m",
            "\u001b[0;31mFileNotFoundError\u001b[0m                         Traceback (most recent call last)",
            "\u001b[0;32m<ipython-input-11-5be109854011>\u001b[0m in \u001b[0;36m<module>\u001b[0;34m()\u001b[0m\n\u001b[1;32m     48\u001b[0m     \u001b[0;32mreturn\u001b[0m \u001b[0mlabel\u001b[0m\u001b[0;34m\u001b[0m\u001b[0;34m\u001b[0m\u001b[0m\n\u001b[1;32m     49\u001b[0m \u001b[0;34m\u001b[0m\u001b[0m\n\u001b[0;32m---> 50\u001b[0;31m \u001b[0mdicoNeigh\u001b[0m \u001b[0;34m=\u001b[0m \u001b[0mgetDicoNeigh\u001b[0m\u001b[0;34m(\u001b[0m\u001b[0;34m'com-amazon.ungraph.txt'\u001b[0m\u001b[0;34m)\u001b[0m\u001b[0;34m\u001b[0m\u001b[0;34m\u001b[0m\u001b[0m\n\u001b[0m\u001b[1;32m     51\u001b[0m \u001b[0;32mimport\u001b[0m \u001b[0mtime\u001b[0m\u001b[0;34m\u001b[0m\u001b[0;34m\u001b[0m\u001b[0m\n\u001b[1;32m     52\u001b[0m \u001b[0mtps1\u001b[0m \u001b[0;34m=\u001b[0m \u001b[0mtime\u001b[0m\u001b[0;34m.\u001b[0m\u001b[0mclock\u001b[0m\u001b[0;34m(\u001b[0m\u001b[0;34m)\u001b[0m\u001b[0;34m\u001b[0m\u001b[0;34m\u001b[0m\u001b[0m\n",
            "\u001b[0;32m<ipython-input-9-e68decee8661>\u001b[0m in \u001b[0;36mgetDicoNeigh\u001b[0;34m(fileName)\u001b[0m\n\u001b[1;32m      2\u001b[0m \u001b[0;32mimport\u001b[0m \u001b[0mre\u001b[0m\u001b[0;34m\u001b[0m\u001b[0;34m\u001b[0m\u001b[0m\n\u001b[1;32m      3\u001b[0m \u001b[0;32mdef\u001b[0m \u001b[0mgetDicoNeigh\u001b[0m\u001b[0;34m(\u001b[0m\u001b[0mfileName\u001b[0m\u001b[0;34m)\u001b[0m\u001b[0;34m:\u001b[0m\u001b[0;34m\u001b[0m\u001b[0;34m\u001b[0m\u001b[0m\n\u001b[0;32m----> 4\u001b[0;31m     \u001b[0mf\u001b[0m \u001b[0;34m=\u001b[0m \u001b[0mopen\u001b[0m\u001b[0;34m(\u001b[0m\u001b[0mfileName\u001b[0m\u001b[0;34m,\u001b[0m \u001b[0;34m\"r\"\u001b[0m\u001b[0;34m)\u001b[0m\u001b[0;34m\u001b[0m\u001b[0;34m\u001b[0m\u001b[0m\n\u001b[0m\u001b[1;32m      5\u001b[0m     \u001b[0mdicoNeigh\u001b[0m \u001b[0;34m=\u001b[0m \u001b[0;34m{\u001b[0m\u001b[0;34m}\u001b[0m\u001b[0;34m\u001b[0m\u001b[0;34m\u001b[0m\u001b[0m\n\u001b[1;32m      6\u001b[0m     \u001b[0;32mfor\u001b[0m \u001b[0mx\u001b[0m \u001b[0;32min\u001b[0m \u001b[0mf\u001b[0m\u001b[0;34m:\u001b[0m\u001b[0;34m\u001b[0m\u001b[0;34m\u001b[0m\u001b[0m\n",
            "\u001b[0;31mFileNotFoundError\u001b[0m: [Errno 2] No such file or directory: 'com-amazon.ungraph.txt'"
          ]
        }
      ]
    },
    {
      "cell_type": "code",
      "metadata": {
        "id": "9yZ-HIQZXjuU"
      },
      "source": [
        "fichier = open(\"testLabel.txt\", \"a\")\n",
        "for lab in label:\n",
        "    fichier.write(str(lab)+'\\n')\n",
        "fichier.close()"
      ],
      "execution_count": null,
      "outputs": []
    },
    {
      "cell_type": "code",
      "metadata": {
        "id": "h__KIjcgXjuU"
      },
      "source": [
        "print(len(label))\n",
        "print(len(list(set(label))))"
      ],
      "execution_count": null,
      "outputs": []
    },
    {
      "cell_type": "code",
      "metadata": {
        "id": "fY8vS-9MXjuU"
      },
      "source": [
        "pos = nx.spring_layout(G)\n",
        "options = {\n",
        "    \"node_color\": \"blue\",\n",
        "    \"node_size\": 2,\n",
        "    \"linewidths\": 0,\n",
        "    \"width\": 0.01,\n",
        "}\n",
        "nx.draw(G, pos, **options)\n",
        "nx.draw_networkx_nodes(G, pos,  node_size=2, node_color=\"r\")\n",
        "plt.show()"
      ],
      "execution_count": null,
      "outputs": []
    },
    {
      "cell_type": "code",
      "metadata": {
        "id": "PwgBeJObXjuV"
      },
      "source": [
        "import networkx as nx\n",
        "\n",
        "def colorNode(number):\n",
        "    if number < 100:\n",
        "        return 'yellow'\n",
        "    elif number < 200:\n",
        "        return 'orange'\n",
        "    elif number < 300:\n",
        "        return 'green'\n",
        "    else : \n",
        "        return 'magenta'\n",
        "\n",
        "options = {\n",
        "    #\"node_color\": \"black\",\n",
        "    \"node_size\": 20,\n",
        "    \"linewidths\": 0,\n",
        "    \"width\": 0.08,\n",
        "}\n",
        "edges = G.edges()\n",
        "colorNodes = [colorNode(i) for i in range(400)]\n",
        "colors = [G[u][v]['color'] for u,v in edges]\n",
        "nx.draw(G, edges = edges,node_color = colorNodes, edge_color = colors, **options)"
      ],
      "execution_count": null,
      "outputs": []
    },
    {
      "cell_type": "code",
      "metadata": {
        "id": "kqpYRioQXjuV"
      },
      "source": [
        "nx.draw_circular(G, edges = edges,node_color = colorNodes, edge_color = colors, **options)"
      ],
      "execution_count": null,
      "outputs": []
    },
    {
      "cell_type": "code",
      "metadata": {
        "id": "NLhb6B9sXjuW"
      },
      "source": [
        "import networkx as nx\n",
        "\n",
        "def colorNode(number):\n",
        "    if number < 100:\n",
        "        return 'yellow'\n",
        "    elif number < 200:\n",
        "        return 'orange'\n",
        "    elif number < 300:\n",
        "        return 'green'\n",
        "    else : \n",
        "        return 'magenta'\n",
        "\n",
        "options = {\n",
        "    #\"node_color\": \"black\",\n",
        "    \"node_size\": 20,\n",
        "    \"linewidths\": 0,\n",
        "    \"width\": 0.08,\n",
        "}\n",
        "edges = G.edges()\n",
        "colorNodes = [label[i] for i in range(400)]\n",
        "colors = [G[u][v]['color'] for u,v in edges]\n",
        "nx.draw(G, edges = edges,node_color = colorNodes, edge_color = colors, **options)"
      ],
      "execution_count": null,
      "outputs": []
    },
    {
      "cell_type": "code",
      "metadata": {
        "id": "RHtZQRYEXjuW"
      },
      "source": [
        "nx.draw_circular(G, edges = edges,node_color = colorNodes, edge_color = colors, **options)"
      ],
      "execution_count": null,
      "outputs": []
    },
    {
      "cell_type": "markdown",
      "metadata": {
        "id": "uUkcxvn4ZMtk"
      },
      "source": [
        "# Louvain methods"
      ]
    },
    {
      "cell_type": "code",
      "metadata": {
        "id": "e-d4bbnsZMZT"
      },
      "source": [
        "#from zipfile import ZipFile\n",
        "#with ZipFile('bin.zip', 'r') as zf:\n",
        "   #zf.extractall('/content/')\n",
        "#with ZipFile('docs.zip', 'r') as zf:\n",
        " #  zf.extractall('/content/')\n",
        "#with ZipFile('community.zip', 'r') as zf:\n",
        "   #zf.extractall('/content/')\n",
        "import community as community_louvain\n",
        "import matplotlib.cm as cm\n",
        "import matplotlib.pyplot as plt\n",
        "import networkx as nx "
      ],
      "execution_count": null,
      "outputs": []
    },
    {
      "cell_type": "code",
      "metadata": {
        "id": "eak9YGbnZMVj"
      },
      "source": [
        "pip install python-louvain"
      ],
      "execution_count": null,
      "outputs": []
    },
    {
      "cell_type": "code",
      "metadata": {
        "id": "tb7oP3LBlVwZ"
      },
      "source": [
        "p = 0.8\n",
        "q = 0.01\n",
        "\n",
        "    \n",
        "def graphe(p,q,n):\n",
        "    G = pgv.AGraph()\n",
        "    G = nx.Graph()\n",
        "    node_list = [i for i in range(n)]\n",
        "    G.add_nodes_from(node_list)\n",
        "    dicoNeigh = {}\n",
        "    for j in range(n):\n",
        "        for k in range(j+1,n):\n",
        "            if k-j<100:\n",
        "                #tirage dans le même groupe\n",
        "                tirage = random.random()\n",
        "                if tirage <= p:\n",
        "                    G.add_edge(j, k, color =\"blue\")\n",
        "                    if j in dicoNeigh:\n",
        "                        dicoNeigh[j].add(k)\n",
        "                    else :\n",
        "                        dicoNeigh[j] = {k}\n",
        "                    if k in dicoNeigh :\n",
        "                        dicoNeigh[k].add(j)\n",
        "                    else : \n",
        "                        dicoNeigh[k] = {j}\n",
        "            else : \n",
        "                #tirage pour groupes différents\n",
        "                tirage = random.random()\n",
        "                if tirage <= q:\n",
        "                    G.add_edge(j, k, color =\"red\")\n",
        "                    if j in dicoNeigh:\n",
        "                        dicoNeigh[j].add(k)\n",
        "                    else :\n",
        "                        dicoNeigh[j] = {k}\n",
        "                    if k in dicoNeigh :\n",
        "                        dicoNeigh[k].add(j)\n",
        "                    else : \n",
        "                        dicoNeigh[k] = {j}\n",
        "    return dicoNeigh, G\n",
        "   \n"
      ],
      "execution_count": null,
      "outputs": []
    },
    {
      "cell_type": "code",
      "metadata": {
        "id": "1jD0mYdElhwe"
      },
      "source": [
        "import time\n",
        "\n",
        "n=4000\n",
        "dicoNeigh, Q = graphe(p,q,n)\n",
        "tps1 = time.clock()\n",
        "label = labelPropagation(dicoNeigh)\n",
        "tps2 = time.clock()\n",
        "print(tps2 - tps1)"
      ],
      "execution_count": null,
      "outputs": []
    },
    {
      "cell_type": "code",
      "metadata": {
        "id": "j69zQrVDadRc"
      },
      "source": [
        "\n",
        "import time\n",
        "tps3 = time.clock()\n",
        "# compute the best partition\n",
        "partition = community_louvain.best_partition(Q)\n",
        "tps4 = time.clock()\n",
        "print(tps4 - tps3)\n",
        "# draw the graph\n",
        "pos = nx.spring_layout(Q)\n",
        "# color the nodes according to their partition\n",
        "cmap = cm.get_cmap('viridis', max(partition.values()) + 1)\n",
        "nx.draw_networkx_nodes(Q, pos, partition.keys(), node_size=40,\n",
        "                       cmap=cmap, node_color=list(partition.values()))\n",
        "nx.draw_networkx_edges(Q, pos, alpha=0.5)\n",
        "plt.show()\n"
      ],
      "execution_count": null,
      "outputs": []
    },
    {
      "cell_type": "markdown",
      "metadata": {
        "id": "LzdZ5O9kqut2"
      },
      "source": [
        "LFR_benchmark_graph\n",
        "\n",
        "\n"
      ]
    },
    {
      "cell_type": "code",
      "metadata": {
        "id": "51Difk06rRpC"
      },
      "source": [
        ""
      ],
      "execution_count": null,
      "outputs": []
    },
    {
      "cell_type": "code",
      "metadata": {
        "id": "tnOAKWgJquBe"
      },
      "source": [
        ""
      ],
      "execution_count": null,
      "outputs": []
    }
  ]
}